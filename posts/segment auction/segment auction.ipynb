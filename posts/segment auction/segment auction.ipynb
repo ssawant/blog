{
 "cells": [
  {
   "cell_type": "markdown",
   "metadata": {},
   "source": [
    "---\n",
    "title: \"Ad Auctions for LLMs via Retrieval Augmented Generation\"\n",
    "author: \"Santosh Sawant\"\n",
    "date: \"2024-06-17\"\n",
    "categories: [llm, research paper]\n",
    "image: \"01.jpeg\"\n",
    "--- "
   ]
  },
  {
   "cell_type": "markdown",
   "metadata": {},
   "source": [
    "![](01.jpeg)"
   ]
  },
  {
   "cell_type": "markdown",
   "metadata": {},
   "source": [
    "Large language models (LLMs) have been making headway in various domains and now also in the field of computational advertising. Now with the integration of ads into the outputs of LLMs have presented an opportunity to support these services without compromising content integrity.\n",
    "\n",
    "To do so researchers have introduced segment auction, a novel auction mechanism for ad allocation and pricing within the textual outputs of LLMs, leveraging retrieval-augmented generation (RAG). In segment auction an ad is probabilistically retrieved for each discourse segment (paragraph, section, or entire output) according to its bid and relevance, following the RAG framework, and priced according to competing bids. \n",
    "\n",
    "In simple terms, when a query is submitted by a user, relevant ads together with bids are retrieved from a database. The retriever forwards the bids to the auction, along with click probabilities (aligned with retrieval probabilities). The auction implements a randomized allocation rule based on these inputs, following the RAG framework, and the LLM bases its output on the winning ad. The auction can be run repeatedly for each segment, or it can compute several winners for multiple segments at once. \n",
    "\n",
    "Such a RAG-based allocation rule is optimal for single-ad allocation per segment, focusing on a balanced efficiency and fairness, crucial for satisfying users and generating ad revenue in LLM outputs. For multi-ad allocation per segment a randomized RAG allocation rule is derived from deterministic truthful auctions, ensuring it is truthfully implementable. The main device for single- and multi-ad allocation is to perturb the bids with random additive offsets, drawing on ideas from discrete choice methods.\n",
    "\n",
    "During evaluation segment auctions were validated for feasibility and effectiveness over several ad auction scenarios using publicly available LLM APIs. While comparing single- and multi-allocation segment auctions against each other:  repeated single-ad segment auctions found to generate higher revenue, where as multi-allocation auction leads to higher output quality, as measured by the cosine similarity between embeddings of the output omitting ads, and the output conditioned on ads.\n",
    "\n",
    "Paper : [https://arxiv.org/pdf/2406.09459](https://arxiv.org/pdf/2406.09459)"
   ]
  },
  {
   "cell_type": "markdown",
   "metadata": {},
   "source": []
  }
 ],
 "metadata": {
  "language_info": {
   "name": "python"
  }
 },
 "nbformat": 4,
 "nbformat_minor": 2
}
