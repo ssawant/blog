{
 "cells": [
  {
   "cell_type": "markdown",
   "metadata": {},
   "source": [
    "---\n",
    "title: \"Structrag: Boosting Knowledge Intensive Reasoning Of Llms Via Inference-Time Hybrid Information Structurization\"\n",
    "author: \"Santosh Sawant\"\n",
    "date: \"2024-10-14\"\n",
    "categories: [llm, research paper]\n",
    "image: \"01.jpeg\"\n",
    "---"
   ]
  },
  {
   "cell_type": "markdown",
   "metadata": {},
   "source": [
    "![](01.jpeg)"
   ]
  },
  {
   "cell_type": "markdown",
   "metadata": {},
   "source": [
    "Retrieval-augmented generation (RAG) is a key means to effectively enhance large language models (LLMs) in many knowledge-based tasks. However, existing RAG methods struggle with knowledge-intensive reasoning tasks, because useful information required to these tasks are badly scattered. This characteristic makes it difficult for existing RAG methods to accurately identify key information and perform global reasoning with such noisy augmentation.\n",
    "\n",
    "Recently, LLMs have been explored for human-like thinking processes to transform scattered information into various structure formats during inference, thereby better serving knowledge-intensive reasoning tasks.\n",
    "\n",
    "Motivated by this, researchers have proposed StructRAG, which employs a hybrid information structuring mechanism to construct and utilize structured knowledge in the most suitable format based on task requirements. \n",
    "\n",
    "The StructRAG framework consists of three sequential modules aimed at effectively processing and utilizing structured knowledge. \n",
    "1. Hybrid Structure Router: This module identifies the most suitable structure type for a given task based on the question and document information.\n",
    "2. LLM-based Scattered Knowledge Structurizer: This component converts raw documents into structured knowledge, leveraging strong comprehension and generation capabilities.\n",
    "3. Structured Knowledge Utilizer: This final module handles complex questions by decomposing them and extracting relevant knowledge, enhancing the accuracy of the final answer.\n",
    "Together, these modules optimize the use of structured knowledge for knowledge-intensive reasoning tasks.\n",
    "\n",
    "Furthermore, in order to get a high-performance hybrid structure router, training data were construct by a synthesizing-simulating-judging pipeline and then implement preference training via DPO algorithm. Experiments on extensive knowledge-intensive reasoning tasks demonstrate that StructRAG is an effective solution, which reaches the SOTA performance and can achieve large improvement in badly information-scattered scenarios.\n",
    "\n",
    "Paper: [StructRAG: Boosting Knowledge Intensive Reasoning of LLMs via Inference-Time Hybrid Information Structurization](https://arxiv.org/abs/2110.00403)"
   ]
  }
 ],
 "metadata": {
  "language_info": {
   "name": "python"
  }
 },
 "nbformat": 4,
 "nbformat_minor": 2
}
