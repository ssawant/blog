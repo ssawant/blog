{
 "cells": [
  {
   "cell_type": "markdown",
   "metadata": {},
   "source": [
    "---\n",
    "title: \"ReLiK: Retrieve and LinK, Fast and Accurate Entity Linking and Relation Extraction on an Academic Budget\"\n",
    "author: \"Santosh Sawant\"\n",
    "date: \"2024-08-05\"\n",
    "categories: [llm, research paper]\n",
    "image: \"01.jpeg\"\n",
    "---"
   ]
  },
  {
   "cell_type": "markdown",
   "metadata": {},
   "source": [
    "![](01.jpeg)"
   ]
  },
  {
   "cell_type": "markdown",
   "metadata": {},
   "source": [
    "Extracting structured information from unstructured text lies at the core of many Gen AI problems such as Information Retrieval, Knowledge Graph Construction, Knowledge Discovery, Automatic Text Summarization and so on. In most of such applications Entity Linking (EL) and Relation Extraction (RE) are very critical components, which are governed by three fundamental properties: Inference Speed, Flexibility, and Performance.\n",
    "While tremendous progress has recently been made on both EL and RE however these approaches only focus on at most two out of the aforementioned three properties simultaneously, hindering their applicability in multiple scenarios.\n",
    "\n",
    "To address this researchers have introduced ReLiK, a Retriever-Reader architecture for both EL and RE, which can be divided into two main components:\n",
    "* The Retriever module, that is tasked to retrieve the possible Entities/Relations that can be extracted from a given input text. \n",
    "* The Readermodule, given the original input text and all the retrieved Entities/Relations (output of the Retriever), is tasked to connect them to the relevant spans in the text.\n",
    "\n",
    "ReLiK enhances Inference Speed, Flexibility, and Performance of AI system by integrating several innovative features: \n",
    "1. It uses a nonparametric memory with a Retriever component, reducing the number of parameters needed while maintaining high performance and fast inference speed.\n",
    "2. It employs textual representations for entities and relations, enabling the model to handle unseen entities and relations more flexibly.\n",
    "3. Its novel input formulation maximizes the contextualization capabilities of advanced language models like DeBERTa-v3, leading to improved performance and processing speed through simultaneous encoding and extraction of text and entities.\n",
    "\n",
    "Paper : [https://arxiv.org/pdf/2408.00103](https://arxiv.org/pdf/2408.00103)\n",
    "\n",
    "Code : [https://github.com/SapienzaNLP/relik?tab=readme-ov-file](https://github.com/SapienzaNLP/relik?tab=readme-ov-file)\n"
   ]
  },
  {
   "cell_type": "markdown",
   "metadata": {},
   "source": []
  }
 ],
 "metadata": {
  "language_info": {
   "name": "python"
  }
 },
 "nbformat": 4,
 "nbformat_minor": 2
}
