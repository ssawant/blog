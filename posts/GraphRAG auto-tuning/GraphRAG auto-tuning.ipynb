{
 "cells": [
  {
   "cell_type": "markdown",
   "metadata": {},
   "source": [
    "---\n",
    "title: \"GraphRAG auto-tuning provides rapid adaptation to new domains\"\n",
    "author: \"Santosh Sawant\"\n",
    "date: \"2024-09-09\"\n",
    "categories: [llm, research paper]\n",
    "image: \"01.jpeg\"\n",
    "---"
   ]
  },
  {
   "cell_type": "markdown",
   "metadata": {},
   "source": [
    "![](01.jpeg)"
   ]
  },
  {
   "cell_type": "markdown",
   "metadata": {},
   "source": [
    "GraphRAG uses large language models (LLMs), guided by a set of domain-specific prompts, to create a comprehensive knowledge graph that details entities and their relationships and then uses semantic structure of the data to generate responses to complex queries. \n",
    "\n",
    "Manually creating and tuning such a set of domain-specific prompts is time-consuming. To streamline this process, researchers from Microsoft have developed an Auto-tuning tool in GraphRAG, which automated generation and fine tuning of domain-specific prompts.\n",
    "\n",
    "Auto-tuning starts by sending a sample of the source content to the LLM, which first identifies the domain and then creates an appropriate persona—used with downstream agents to tune the extraction process. Once the domain and persona are established, several processes occur in parallel to create custom indexing prompts. This way, the few-shot prompts are generated based on the actual domain data and from the persona’s perspective. \n",
    "\n",
    "Auto-tuning follows a human-like approach; provided an LLM with a sample of text data (e.g., 1% of 10,000 chemistry papers) and instructed it to produce the prompts it deemed most applicable to the content. Now, with these automatically generated and tuned prompts, one can immediately apply GraphRAG to a new domain of choosing, confident that we’ll get high-quality results.\n",
    "\n",
    "Blog : [GraphRAG auto tuning](https://www.microsoft.com/en-us/research/blog/graphrag-auto-tuning-provides-rapid-adaptation-to-new-domains/)"
   ]
  },
  {
   "cell_type": "markdown",
   "metadata": {},
   "source": []
  }
 ],
 "metadata": {
  "language_info": {
   "name": "python"
  }
 },
 "nbformat": 4,
 "nbformat_minor": 2
}
