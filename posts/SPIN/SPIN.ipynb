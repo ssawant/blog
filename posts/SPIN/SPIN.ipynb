{
 "cells": [
  {
   "cell_type": "markdown",
   "metadata": {},
   "source": [
    "---\n",
    "title: \"Self-Play Fine-Tuning (SPIN): Converts Weak Language Models to Strong Language Models \"\n",
    "author: \"Santosh Sawant\"\n",
    "date: \"2024-01-05\"\n",
    "categories: [llm, research paper]\n",
    "image: \"01.jpeg\"\n",
    "---"
   ]
  },
  {
   "cell_type": "markdown",
   "metadata": {},
   "source": [
    "![](01.jpeg)"
   ]
  },
  {
   "cell_type": "markdown",
   "metadata": {},
   "source": [
    "Self-Play Fine-Tuning (SPIN) is a new fine-tuning method to improve large language models (LLMs) without needing additional human-annotated data. \n",
    "\n",
    "The key idea is to use a self-play mechanism where the LLM plays against itself. Specifically, the LLM from the previous iteration generates synthetic responses. The new LLM being trained tries to discern between the synthetic responses and real human responses. This iterates, with the new LLM becoming the synthetic data generator for the next iteration. \n",
    "\n",
    "The method is shown to significantly enhance LLMs' performance on a variety of benchmarks: \n",
    "- On the HuggingFace Open LLM Leaderboard, SPIN improves the average score from 58.14 to 63.16 with over 10% gains on some datasets. \n",
    "- On the MT-Bench benchmark, the score improves from 5.94 to 6.78. \n",
    "- The gains match or exceed models trained with additional human preference data. \n",
    "\n",
    "Theoretically, it is proven that SPIN converges when the LLM distribution aligns perfectly with the real data distribution. \n",
    "\n",
    "Overall, the self-play approach enables iterative improvement of LLMs without needing extra human feedback or data, converting weak models to strong models by unleashing the full potential of existing labeled data.\n",
    "\n",
    "\n",
    "Paper : [https://arxiv.org/pdf/2401.01335.pdf](https://arxiv.org/pdf/2401.01335.pdf)"
   ]
  }
 ],
 "metadata": {
  "language_info": {
   "name": "python"
  }
 },
 "nbformat": 4,
 "nbformat_minor": 2
}
