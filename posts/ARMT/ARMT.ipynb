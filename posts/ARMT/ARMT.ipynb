{
 "cells": [
  {
   "cell_type": "markdown",
   "metadata": {},
   "source": [
    "---\n",
    "title: \"Associative Recurrent Memory Transformer\"\n",
    "author: \"Santosh Sawant\"\n",
    "date: \"2024-07-09\"\n",
    "categories: [llm, research paper]\n",
    "image: \"01.jpeg\"\n",
    "---"
   ]
  },
  {
   "cell_type": "markdown",
   "metadata": {},
   "source": [
    "![](01.jpeg)"
   ]
  },
  {
   "cell_type": "markdown",
   "metadata": {},
   "source": [
    "Long sequence LLMs are some of the challenging models to work around as memory plays a crucial role processing extremely long contexts and utilizing remote past information. Various methods have emerged for extending transformers context length, including approaches based on transformer segment-level recurrence but none are able to successfully mitigate it.\n",
    "\n",
    "Now researchers have come up with a novel model called Associative Recurrent Memory Transformer (ARMT), a memory-augmented segment-level recurrent Transformer based on Recurrent Memory Transformer. \n",
    "Compared to RWKV and Mamba, which use association-based techniques, ARMT benefits from full local self attention and has constant time and space complexity of processing new segments, similar to RMT.\n",
    "\n",
    "During experimentation  ARMT outperformed existing alternatives in associative retrieval tasks and set a new performance record in the recent BABILong multi-task long-context benchmark by answering single-fact questions over 50 million tokens with an accuracy of 79.9%.\n",
    "\n",
    "Paper : [https://arxiv.org/pdf/2407.04841](https://arxiv.org/pdf/2407.04841)\n",
    "\n",
    "Code : [https://github.com/RodkinIvan/associative-recurrent-memory-transformer](https://github.com/RodkinIvan/associative-recurrent-memory-transformer)"
   ]
  },
  {
   "cell_type": "markdown",
   "metadata": {},
   "source": []
  }
 ],
 "metadata": {
  "language_info": {
   "name": "python"
  }
 },
 "nbformat": 4,
 "nbformat_minor": 2
}
