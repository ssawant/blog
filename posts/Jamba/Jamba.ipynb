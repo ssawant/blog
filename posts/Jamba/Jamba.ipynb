{
 "cells": [
  {
   "cell_type": "markdown",
   "metadata": {},
   "source": [
    "---\n",
    "title: \"Jamba: A Hybrid Transformer-Mamba Language Model\"\n",
    "author: \"Santosh Sawant\"\n",
    "date: \"2024-04-01\"\n",
    "categories: [llm, research paper]\n",
    "image: \"01.jpeg\"\n",
    "---"
   ]
  },
  {
   "cell_type": "markdown",
   "metadata": {},
   "source": [
    "![](01.jpeg)"
   ]
  },
  {
   "cell_type": "markdown",
   "metadata": {},
   "source": [
    "Finally,  the first production-grade commercially available Mamba-based model delivering best-in-class quality and performance is here. Introducing Jamba, a novel architecture which combines Attention and Mamba layers, with MoE modules. Here are some key features of Jamba\n",
    "\n",
    "* 3X throughput on long contexts compared to Mixtral 8x7B\n",
    "* Democratizes access to a massive 256K context window\n",
    "* The only model in its size class that fits up to 140K context on a single GPU\n",
    " \n",
    "So how does Jamba provide flexibility for balancing performance and memory requirements, while the previous Mamba-Transformer based models were not able to do so ?\n",
    "\n",
    "It all comes down to Jamba architecture choice, which aims to provide not only a small number of active parameters but also an 8x smaller KV cache compared to a vanilla Transformer. The basic component is a Jamba block, which may be repeated in sequence. Each Jamba block is a combination of Mamba or Attention layers. Each such layer contains either an attention or a Mamba module, followed by a multi-layer perceptron (MLP). Further, In Jamba some of the MLPs may be replaced by MoE layers, which helps increase the model capacity while keeping the active number of parameters, and thus the compute, small\n",
    "\n",
    "In summary, the different degrees of freedom in the Jamba architecture are:  \n",
    "* `l`: The number of layers. \n",
    "* `a` : `m` : ratio of attention-to-Mamba layers.  \n",
    "* `e`: how often to use MoE instead of a single MLP. \n",
    "* `n`: total number of experts per layer. \n",
    "* `K`: number of top experts used at each token.\n",
    "\n",
    "Given this design space, Jamba provides flexibility in preferring certain properties over others. For example, increasing `m` and decreasing `a`, i.e, increasing the ratio of Mamba layers at the expense of attention layers, reduces the required memory for storing the key-value cache thus reducing overall memory space. Increasing the ratio of Mamba layers also improves throughput, especially at long sequences. However, decreasing `a` might lower the model’s capabilities. Other architecture details are standard, including grouped-query attention (GQA), SwiGLU activation function, and load balancing for the MoE. The vocabulary size is 64K. The tokenizer is trained with BPE and each digit is a separate token.\n",
    "\n",
    "Paper : [https://arxiv.org/pdf/2403.19887.pdf](https://arxiv.org/pdf/2403.19887.pdf)\n"
   ]
  },
  {
   "cell_type": "markdown",
   "metadata": {},
   "source": []
  }
 ],
 "metadata": {
  "language_info": {
   "name": "python"
  }
 },
 "nbformat": 4,
 "nbformat_minor": 2
}
