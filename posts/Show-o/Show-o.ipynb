{
 "cells": [
  {
   "cell_type": "markdown",
   "metadata": {},
   "source": [
    "---\n",
    "title: \"LLM Pruning and Distillation in Practice: The Minitron Approach\"\n",
    "author: \"Santosh Sawant\"\n",
    "date: \"2024-08-26\"\n",
    "categories: [llm, research paper]\n",
    "image: \"01.jpeg\"\n",
    "---"
   ]
  },
  {
   "cell_type": "markdown",
   "metadata": {},
   "source": [
    "![](01.jpeg)"
   ]
  },
  {
   "cell_type": "markdown",
   "metadata": {},
   "source": [
    "Over the past few years, significant advancements have blossomed in the two key pillars of multimodal intelligence: understanding and generation. Recent works have tried to form a unified system that can handle both multimodal understanding and generation. However, existing attempts mainly treat each domain independently and often involve individual models responsible for understanding and generation separately. \n",
    "\n",
    "So can one single transformer handle both multimodal understanding and generation? or can one single transformer involve both autoregressive and diffusion modeling?\n",
    "\n",
    "To address this researchers have introduced Show-o, which unifies multimodal understanding and generation. Unlike fully autoregressive models, Show-o unifies autoregressive and (discrete) diffusion modeling to adaptively handle inputs and outputs of various and mixed modalities.\n",
    "\n",
    "First the input data, regardless of its modalities, is tokenized and then prompted into a formatted input sequence. Then Show-o processes text tokens autoregressively with causal attention and image tokens in (discrete) denoising diffusion modeling via full attention, and then generates the desired output. Specifically, Show-o is capable of handling image captioning, visual question answering, text-to-image generation, text-guided inpainting/extrapolation, and mixed modality generation.\n",
    "\n",
    "Across various benchmarks, Show-o demonstrates comparable or superior performance to existing individual models with an equivalent or larger number of parameters tailored for understanding or generation. This significantly highlights its potential as a next-generation foundation model.\n",
    "\n",
    "Paper : [https://arxiv.org/pdf/2408.12528](https://arxiv.org/pdf/2408.12528)\n",
    "\n",
    "Code : [https://github.com/showlab/Show-o](https://github.com/showlab/Show-o)\n"
   ]
  },
  {
   "cell_type": "markdown",
   "metadata": {},
   "source": []
  }
 ],
 "metadata": {
  "language_info": {
   "name": "python"
  }
 },
 "nbformat": 4,
 "nbformat_minor": 2
}
