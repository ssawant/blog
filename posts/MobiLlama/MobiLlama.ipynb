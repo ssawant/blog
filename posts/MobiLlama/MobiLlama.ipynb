{
 "cells": [
  {
   "cell_type": "markdown",
   "metadata": {},
   "source": [
    "---\n",
    "title: \"MobiLlama: Towards Accurate and Lightweight Fully Transparent GPT \"\n",
    "author: \"Santosh Sawant\"\n",
    "date: \"2024-02-27\"\n",
    "categories: [llm, research paper]\n",
    "image: \"01.jpeg\"\n",
    "---"
   ]
  },
  {
   "cell_type": "markdown",
   "metadata": {},
   "source": [
    "![](01.jpeg)"
   ]
  },
  {
   "cell_type": "markdown",
   "metadata": {},
   "source": [
    "MobiLlama, another Small Language Models (SLMs) for resource constrained devices.  MobileLlama is a SLM design that initiates from a larger model and applies a careful parameter sharing scheme to reduce both the pre-training and the deployment cost. MobileLlama was trained using the Amber data sources.\n",
    "\n",
    "MobiLlama, with an aim to develop accurate SLMs by alleviating the redundancy in the transformer blocks. Different from the conventional SLM design where dedicated feed forward layers (FFN) are typically allocated to each transformer block, it employs a shared FFN design for all the transformer blocks within SLM.\n",
    "\n",
    "MobiLlama 0.5B and 0.8B models outperform OLMo-1.17B and TinyLlama-1.1B in terms of pre-training tokens, pre-training time and memory, model parameters, overall accuracy across nine benchmarks and on-device efficiency. MobiLlama achieves comparable accuracy while requiring significantly fewer pre-training data (1.2T tokens vs. 3T tokens), lesser pre-training time and GPU memory along with being efficient in terms of deployment on a resource constrained device\n",
    "\n",
    "Paper : [https://lnkd.in/gR2RzMiF](https://lnkd.in/gR2RzMiF)\n",
    "\n",
    "Code  : [https://lnkd.in/gg_-ArZt](https://lnkd.in/gg_-ArZt)\n",
    "\n",
    "Model : [https://lnkd.in/gXegFw-8](https://lnkd.in/gXegFw-8)"
   ]
  },
  {
   "cell_type": "markdown",
   "metadata": {},
   "source": []
  }
 ],
 "metadata": {
  "language_info": {
   "name": "python"
  }
 },
 "nbformat": 4,
 "nbformat_minor": 2
}
