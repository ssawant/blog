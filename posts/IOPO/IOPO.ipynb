{
 "cells": [
  {
   "cell_type": "markdown",
   "metadata": {},
   "source": [
    "---\n",
    "title: \"IOPO: Empowering LLMs with Complex Instruction Following via Input-Output Preference Optimization\"\n",
    "author: \"Santosh Sawant\"\n",
    "date: \"2024-11-15\"\n",
    "categories: [llm, research paper]\n",
    "image: \"01.jpeg\"\n",
    "---"
   ]
  },
  {
   "cell_type": "markdown",
   "metadata": {},
   "source": [
    "![](01.jpeg)"
   ]
  },
  {
   "cell_type": "markdown",
   "metadata": {},
   "source": [
    "Recently, the ability to follow complex instructions with multiple constraints is gaining increasing attention as LLMs are deployed in sophisticated real-world applications. However, most benchmarks lay emphasis on evaluating LLMs’ ability to follow complex instructions, and lack of algorithms tailored for enhancing the corresponding ability.\n",
    "\n",
    "To address this researchers have introduced IOPO (Input-Output Preference Optimization), a novel technique to empower large language models (LLMs) with complex instruction following capabilities. Typically, LLMs are trained on a massive amount of text data, which allows them to become very capable at generating human-like text. However, this training process doesn't necessarily ensure that the model will behave in alignment with human values and preferences when given complex instructions.\n",
    "\n",
    "IOPO tries to address this by explicitly optimizing the LLM's preferences during training. The researchers collect information about what users consider \"good\" or \"desirable\" responses to certain inputs, and then use this to guide the model's training. This helps the LLM learn to prioritize outputs that are more aligned with human preferences.\n",
    "\n",
    "The core innovation of IOPO is to optimize the LLM's preferences over input-output pairs during training, rather than just maximizing the likelihood of the training data. This is achieved through a two-stage training process:\n",
    "1. **Preference Collection**: The researchers first collect information about user preferences for different input-output pairs, using techniques like FIPO and Triple Preference Optimization.\n",
    "2. **Preference Optimization**: The LLM is then trained using a novel objective function that encourages the model to generate outputs that are more aligned with the collected user preferences. This is implemented through direct preference optimization techniques.\n",
    "\n",
    "Extensive experiments on both in-domain and out of-domain datasets confirm the effectiveness of IOPO, showing 8.15%, 2.18% improvements on in-domain data and 6.29%, 3.13% on out of-domain data compared to SFT and DPO respectively.\n",
    "\n",
    "Paper : [IOPO: Empowering LLMs with Complex Instruction Following via Input-Output Preference Optimization](https://arxiv.org/abs/2111.04794)   \n"
   ]
  },
  {
   "cell_type": "markdown",
   "metadata": {},
   "source": []
  }
 ],
 "metadata": {
  "language_info": {
   "name": "python"
  }
 },
 "nbformat": 4,
 "nbformat_minor": 2
}
