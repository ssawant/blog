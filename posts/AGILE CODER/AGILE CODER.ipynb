{
 "cells": [
  {
   "cell_type": "markdown",
   "metadata": {},
   "source": [
    "---\n",
    "title: \"THEANINE: Revisiting Memory Management in Long-term Conversations with Timeline-augmented Response Generation\"\n",
    "author: \"Santosh Sawant\"\n",
    "date: \"2024-06-19\"\n",
    "categories: [llm, research paper]\n",
    "image: \"01.jpeg\"\n",
    "--- "
   ]
  },
  {
   "cell_type": "markdown",
   "metadata": {},
   "source": [
    "![](01.jpeg)"
   ]
  },
  {
   "cell_type": "markdown",
   "metadata": {},
   "source": [
    "Software agents have emerged as promising tools for addressing complex software engineering tasks. However, existing works oversimplify software development workflows by following the waterfall model.\n",
    "\n",
    "Can software agents mimic real word software development workflow ?\n",
    "\n",
    "Introducing AGILECODER, a multi-agent system that integrates Agile Methodology (AM) into the framework. This system assigns specific AM roles—such as Product Manager, Developer, and Tester—to different agents, who then collaboratively develop software based on user inputs. AGILECODER enhances development efficiency by organizing work into sprints, focusing on incrementally developing software through sprints.\n",
    "\n",
    "AGILECODER uses multiple agent such as Product Manager (PM), Scrum Master (SM), Developer (Dev), Senior Developer (SD) and Tester. Each role can be dynamically assigned and executed. The workflow starts with the Product Manager planning the backlog based on user requirements. The Scrum Master then reviews and finalizes the backlog, leading into development sprints consisting of Planning, Development, Testing, and Review phases. After evaluating progress, the Scrum Master decides on software readiness for delivery. If necessary, the process repeats in subsequent sprints until the software is deemed deliverable. at which point a termination signal concludes the development pipeline.\n",
    "\n",
    "The development process incorporates the Execution Environment for running code during testing and the Dynamic Code Graph Generator (DCGG) for dynamically generating the Code Dependency Graph whenever the code is updated. The Execution Environment provides tracebacks to agents for code refinement, while the DCGG enables agents to retrieve relevant contexts for accurate code generation and correction.\n",
    "\n",
    "AGILECODER surpasses existing benchmarks, like ChatDev and MetaGPT, establishing a new standard and showcasing the capabilities of multi-agent systems in advanced software engineering environments.\n",
    "\n",
    "Paper : [https://arxiv.org/pdf/2406.11912](https://arxiv.org/pdf/2406.11912)"
   ]
  },
  {
   "cell_type": "markdown",
   "metadata": {},
   "source": []
  }
 ],
 "metadata": {
  "language_info": {
   "name": "python"
  }
 },
 "nbformat": 4,
 "nbformat_minor": 2
}
